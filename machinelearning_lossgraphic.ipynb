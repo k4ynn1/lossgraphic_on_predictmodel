{
 "cells": [
  {
   "cell_type": "code",
   "execution_count": 2,
   "id": "9ecbbf3c-6e6d-4f6f-863e-1fc2fdac2b21",
   "metadata": {},
   "outputs": [],
   "source": [
    "import numpy as np\n",
    "import pandas as pd\n",
    "import matplotlib.pyplot as plt\n",
    "import seaborn as sbn\n",
    "from sklearn.model_selection import train_test_split"
   ]
  },
  {
   "cell_type": "code",
   "execution_count": 3,
   "id": "0ab3fcfa-386c-403d-8d00-3603f8bcd92d",
   "metadata": {},
   "outputs": [],
   "source": [
    "data=pd.read_excel(\"bisiklet_fiyatlari.xlsx\")\n"
   ]
  },
  {
   "cell_type": "code",
   "execution_count": 4,
   "id": "bd78ed4e-4818-44b9-8f84-d6b989d04191",
   "metadata": {},
   "outputs": [
    {
     "name": "stdout",
     "output_type": "stream",
     "text": [
      "(670, 2)\n"
     ]
    }
   ],
   "source": [
    "#train_test_split dökümantasyonuna bak\n",
    "#x=features y=labels\n",
    "y=data['Fiyat'].values\n",
    "x=data[['BisikletOzellik1','BisikletOzellik2']].values\n",
    "x_train, x_test, y_train, y_test=train_test_split(x,y,test_size=0.33,random_state=15)\n",
    "shapez=x_train.shape\n",
    "print(shapez)"
   ]
  },
  {
   "cell_type": "code",
   "execution_count": 5,
   "id": "18f87952-c688-4b46-8605-29f8f9039dce",
   "metadata": {},
   "outputs": [],
   "source": [
    "#scaling nöron boyutu ayarlama\n",
    "from sklearn.preprocessing import MinMaxScaler\n",
    "scaler=MinMaxScaler()\n",
    "scaler.fit(x_train)\n",
    "x_train=scaler.transform(x_train)\n",
    "x_test=scaler.transform(x_test)"
   ]
  },
  {
   "cell_type": "code",
   "execution_count": null,
   "id": "713bba05-71d0-4b36-b9ef-5f899880e8b5",
   "metadata": {},
   "outputs": [],
   "source": [
    "import tensorflow as tf\n",
    "from tensorflow.keras.models import Sequential\n",
    "from tensorflow.keras.layers import Dense\n",
    "model=Sequential()\n",
    "model.add(Dense(5,\"relu\")) #nöron ekleme hidden layer\n",
    "model.add(Dense(5,\"relu\"))\n",
    "model.add(Dense(5,\"relu\"))\n",
    "model.add(Dense(1))\n",
    "model.compile(optimizer='rmsprop',loss= 'mse')\n",
    "model.fit(x_train,y_train,epochs=250)\n",
    "loss=model.history.history[\"loss\"]"
   ]
  },
  {
   "cell_type": "code",
   "execution_count": null,
   "id": "6a86c065-8b9c-431a-9ccf-4e28a1b76c92",
   "metadata": {},
   "outputs": [],
   "source": [
    "grafik=sbn.lineplot(x=range(len(loss)),y=loss)\n",
    "print(grafik)"
   ]
  }
 ],
 "metadata": {
  "kernelspec": {
   "display_name": "Python 3 (ipykernel)",
   "language": "python",
   "name": "python3"
  },
  "language_info": {
   "codemirror_mode": {
    "name": "ipython",
    "version": 3
   },
   "file_extension": ".py",
   "mimetype": "text/x-python",
   "name": "python",
   "nbconvert_exporter": "python",
   "pygments_lexer": "ipython3",
   "version": "3.11.7"
  }
 },
 "nbformat": 4,
 "nbformat_minor": 5
}
